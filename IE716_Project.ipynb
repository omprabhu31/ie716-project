{
 "cells": [
  {
   "cell_type": "code",
   "execution_count": 15,
   "id": "0a53bd23-758b-4674-acf2-cec0aac921eb",
   "metadata": {},
   "outputs": [
    {
     "name": "stdout",
     "output_type": "stream",
     "text": [
      "Solve time: 5.898770093917847 seconds\n"
     ]
    }
   ],
   "source": [
    "from pulp import *\n",
    "\n",
    "# Define the problem parameters\n",
    "n = 150000\n",
    "k = 25000\n",
    "\n",
    "# Define the PuLP problem\n",
    "prob = LpProblem(\"Binary_Integer_Program\", LpMinimize)\n",
    "\n",
    "# Define the binary variables\n",
    "x = LpVariable.dicts(\"x\", range(1,n+2), cat='Binary')\n",
    "\n",
    "# Define the objective function\n",
    "prob += x[n+1]\n",
    "\n",
    "# Define the constraint\n",
    "prob += 2*lpSum([x[i] for i in range(1, n+1)]) + x[n+1] == 2*k + 1\n",
    "\n",
    "# Solve the problem using the CBC solver\n",
    "prob.solve(PULP_CBC_CMD())\n",
    "\n",
    "# Print the solution\n",
    "# print(\"Solution:\")\n",
    "# for i in range(1,n+2):\n",
    "    # print(\"x[{}] = {}\".format(i, x[i].value()))\n",
    "\n",
    "# Print the solve time\n",
    "print(\"Solve time: {} seconds\".format(prob.solutionTime))\n"
   ]
  },
  {
   "cell_type": "code",
   "execution_count": null,
   "id": "0820a57e-27d8-4322-ae5f-43aead5746ae",
   "metadata": {},
   "outputs": [],
   "source": []
  }
 ],
 "metadata": {
  "kernelspec": {
   "display_name": "Python 3 (ipykernel)",
   "language": "python",
   "name": "python3"
  },
  "language_info": {
   "codemirror_mode": {
    "name": "ipython",
    "version": 3
   },
   "file_extension": ".py",
   "mimetype": "text/x-python",
   "name": "python",
   "nbconvert_exporter": "python",
   "pygments_lexer": "ipython3",
   "version": "3.10.10"
  }
 },
 "nbformat": 4,
 "nbformat_minor": 5
}
